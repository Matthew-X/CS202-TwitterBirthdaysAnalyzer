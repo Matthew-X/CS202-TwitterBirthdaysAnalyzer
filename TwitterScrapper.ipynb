{
 "cells": [
  {
   "cell_type": "code",
   "execution_count": 12,
   "metadata": {},
   "outputs": [],
   "source": [
    "import csv\r\n",
    "from getpass import getpass\r\n",
    "from time import sleep\r\n",
    "from selenium.webdriver.common.keys import Keys\r\n",
    "from selenium.common.exceptions import NoSuchElementException\r\n",
    "from selenium.webdriver import Chrome\r\n",
    "from selenium.webdriver.support.ui import WebDriverWait\r\n",
    "from selenium.webdriver.support import expected_conditions as EC\r\n",
    "from selenium.webdriver.common.by import By\r\n",
    "from selenium.common.exceptions import TimeoutException"
   ]
  },
  {
   "cell_type": "code",
   "execution_count": 13,
   "metadata": {},
   "outputs": [],
   "source": [
    "driver = Chrome()\r\n",
    "delay = 3"
   ]
  },
  {
   "cell_type": "code",
   "execution_count": 14,
   "metadata": {},
   "outputs": [],
   "source": [
    "driver.get('http://www.twitter.com/login')"
   ]
  },
  {
   "cell_type": "code",
   "execution_count": 15,
   "metadata": {},
   "outputs": [],
   "source": [
    "username = WebDriverWait(driver, delay).until(EC.presence_of_element_located((By.XPATH, '//input[@autocomplete=\"username\"]')))\r\n",
    "username.send_keys('yourusername')"
   ]
  },
  {
   "cell_type": "code",
   "execution_count": 16,
   "metadata": {},
   "outputs": [],
   "source": [
    "username.send_keys(Keys.RETURN)"
   ]
  },
  {
   "cell_type": "code",
   "execution_count": 18,
   "metadata": {},
   "outputs": [],
   "source": [
    "password = WebDriverWait(driver, delay).until(EC.presence_of_element_located((By.XPATH,'//input[@autocomplete=\"current-password\"]')))\r\n",
    "password.send_keys('yourpassword')"
   ]
  },
  {
   "cell_type": "code",
   "execution_count": 19,
   "metadata": {},
   "outputs": [],
   "source": [
    "password.send_keys(Keys.RETURN)"
   ]
  },
  {
   "cell_type": "code",
   "execution_count": 21,
   "metadata": {},
   "outputs": [],
   "source": [
    "profile = WebDriverWait(driver, delay).until(EC.presence_of_element_located((By.XPATH,'//a[@aria-label=\"Profile\"]'))).click()"
   ]
  },
  {
   "cell_type": "code",
   "execution_count": 28,
   "metadata": {},
   "outputs": [],
   "source": [
    "driver.find_element(By.PARTIAL_LINK_TEXT,'Following').click()"
   ]
  },
  {
   "cell_type": "code",
   "execution_count": 142,
   "metadata": {},
   "outputs": [
    {
     "name": "stdout",
     "output_type": "stream",
     "text": [
      "https://twitter.com/KarKuma2\n",
      "https://twitter.com/arcaiuswolf\n",
      "https://twitter.com/Zetaxen_\n",
      "https://twitter.com/shodewn\n",
      "https://twitter.com/KUROOObunbun\n",
      "https://twitter.com/vasya_meow\n",
      "https://twitter.com/jaybeyyy\n",
      "https://twitter.com/ManMilk2\n",
      "https://twitter.com/nocontextvenom\n",
      "https://twitter.com/lemusuniverse\n",
      "https://twitter.com/JibKodi\n",
      "https://twitter.com/Black_Zork\n",
      "https://twitter.com/reniawoodburn\n",
      "https://twitter.com/EdgaaTanuki\n",
      "https://twitter.com/ElvisBadger\n",
      "https://twitter.com/roni_orin\n",
      "https://twitter.com/Inuwuff_\n",
      "https://twitter.com/thanshuhai\n",
      "https://twitter.com/seviezar\n",
      "https://twitter.com/koarakeru\n",
      "https://twitter.com/kodokumochii\n",
      "https://twitter.com/717D3V\n",
      "https://twitter.com/luknife\n",
      "https://twitter.com/kemono_online\n",
      "https://twitter.com/ZeTrystan\n",
      "https://twitter.com/chuurow\n",
      "https://twitter.com/MrGaberson\n",
      "https://twitter.com/Flooderino\n",
      "https://twitter.com/mocheccino\n",
      "https://twitter.com/OOKAnyoufeelit\n",
      "https://twitter.com/fwflunky\n",
      "https://twitter.com/Gato_Matero\n",
      "https://twitter.com/CrescentYeen\n",
      "https://twitter.com/LeafLion_\n",
      "https://twitter.com/Kuttoyaki\n",
      "https://twitter.com/dbrand\n",
      "https://twitter.com/GenshinImpact\n",
      "https://twitter.com/TooMuchDynamite\n",
      "https://twitter.com/JaidenAnimation\n",
      "https://twitter.com/LineageAndroid\n",
      "https://twitter.com/luca020400\n",
      "https://twitter.com/MatPatGT\n",
      "https://twitter.com/OnePlus_Support\n",
      "https://twitter.com/BenjaminDiskin\n",
      "https://twitter.com/DingoDoodles\n",
      "https://twitter.com/JoCat105\n",
      "https://twitter.com/RickandMorty\n",
      "https://twitter.com/LotsOf_Lulu\n",
      "https://twitter.com/THEBLUEHAMHAM\n",
      "https://twitter.com/rygel_spkb\n",
      "https://twitter.com/ICSandwichGuy\n",
      "https://twitter.com/PokemonGoApp\n",
      "https://twitter.com/chanbanhi\n",
      "https://twitter.com/Pokemon\n",
      "https://twitter.com/PlayTemtem\n",
      "https://twitter.com/year_progress\n",
      "https://twitter.com/MKBHD\n",
      "https://twitter.com/Grumpyface\n",
      "https://twitter.com/fjamie013\n",
      "https://twitter.com/Lake_Reu\n",
      "https://twitter.com/Javigameboy\n",
      "https://twitter.com/tobyfox\n",
      "https://twitter.com/RiskofRain\n",
      "https://twitter.com/oneplus\n",
      "https://twitter.com/DeedeeMagnoHall\n",
      "https://twitter.com/MKatwood\n",
      "https://twitter.com/EstelleDarlings\n",
      "https://twitter.com/madebygoogle\n",
      "https://twitter.com/sundarpichai\n",
      "https://twitter.com/FreeMemesKidz\n",
      "https://twitter.com/dokirosi\n",
      "https://twitter.com/GoogleDesign\n",
      "https://twitter.com/googlestudents\n",
      "https://twitter.com/harto\n",
      "https://twitter.com/lifeatgoogle\n",
      "https://twitter.com/Twitch\n",
      "https://twitter.com/Mojang\n",
      "https://twitter.com/Mystery_Ben27\n",
      "https://twitter.com/klei\n",
      "https://twitter.com/Minecraft\n",
      "https://twitter.com/DOTA2\n",
      "https://twitter.com/rebeccasugar\n",
      "https://twitter.com/pcgamer\n",
      "https://twitter.com/nvidia\n",
      "https://twitter.com/Google\n",
      "https://twitter.com/AMD\n",
      "86\n"
     ]
    }
   ],
   "source": [
    "FollowingNamesList = set()\r\n",
    "data = []\r\n",
    "last_position = driver.execute_script(\"return window.pageYOffset\")\r\n",
    "scrolling = True\r\n",
    "\r\n",
    "while scrolling:\r\n",
    "    FollowingList = WebDriverWait(driver, delay).until(EC.presence_of_all_elements_located((By.XPATH,'.//div[@data-testid=\"UserCell\"]/div/div[2]/div/div/a')))\r\n",
    "    for FollowingFrien in FollowingList:\r\n",
    "        if FollowingFrien.get_attribute('href') not in FollowingNamesList:\r\n",
    "            FollowingNamesList.add(FollowingFrien.get_attribute('href'))\r\n",
    "            print(FollowingFrien.get_attribute('href'))\r\n",
    "            data.append(FollowingFrien.get_attribute('href'))\r\n",
    "\r\n",
    "    scrolling_attempt = 0\r\n",
    "    while True:\r\n",
    "        driver.execute_script('window.scrollTo(0, document.body.scrollHeight);')\r\n",
    "        sleep(1)\r\n",
    "        curr_position = driver.execute_script(\"return window.pageYOffset\")\r\n",
    "        if curr_position == last_position:\r\n",
    "            scrolling_attempt += 1\r\n",
    "            if scrolling_attempt>= 3:\r\n",
    "                scrolling = False\r\n",
    "                break\r\n",
    "            else:\r\n",
    "                sleep(2)\r\n",
    "        else:\r\n",
    "            last_position = curr_position\r\n",
    "            break\r\n",
    "#print(len(data))"
   ]
  },
  {
   "cell_type": "code",
   "execution_count": 217,
   "metadata": {},
   "outputs": [],
   "source": [
    "def get_Friens_data():\r\n",
    "    try:\r\n",
    "        birthday_date = WebDriverWait(driver, delay).until(EC.presence_of_element_located((By.XPATH,'.//span[@data-testid=\"UserBirthdate\"]'))).text.split(' ', 1)[1]\r\n",
    "    except TimeoutException:\r\n",
    "        birthday_date = 'hidden'\r\n",
    "    username = driver.find_element(By.XPATH,'.//div[@data-testid=\"UserName\"]/div/div/div[1]').text\r\n",
    "    followers = driver.find_element(By.PARTIAL_LINK_TEXT,'Followers').text\r\n",
    "    following = driver.find_element(By.PARTIAL_LINK_TEXT,'Following').text\r\n",
    "    userID = driver.find_element(By.XPATH,'.//div[@data-testid=\"UserName\"]/div/div/div[2]').text\r\n",
    "\r\n",
    "    FrienInfo = (username,userID,birthday_date,followers,following)\r\n",
    "    return FrienInfo"
   ]
  },
  {
   "cell_type": "code",
   "execution_count": 218,
   "metadata": {},
   "outputs": [
    {
     "name": "stdout",
     "output_type": "stream",
     "text": [
      "('KarKumaカル熊(虎)', '@KarKuma2', 'hidden', '1,142 Followers', '308 Following')\n",
      "('Arcaius', '@arcaiuswolf', 'hidden', '1,621 Followers', '620 Following')\n",
      "('Zetaxen ', '@Zetaxen_\\nFollows you', 'December 24, 1989', '15.7K Followers', '1,073 Following')\n",
      "('sheo', '@shodewn', 'March 18', '232 Followers', '171 Following')\n",
      "('KUROOO ', '@KUROOObunbun\\nFollows you', 'July 21', '1,469 Followers', '552 Following')\n",
      "(' Vasya cat', '@vasya_meow\\nFollows you', 'hidden', '202 Followers', '1,978 Following')\n",
      "('JB', '@jaybeyyy', 'hidden', '20.1K Followers', '844 Following')\n",
      "('Images That Make You Feel Pain', '@ManMilk2', 'hidden', '891.3K Followers', '572 Following')\n",
      "('venom out of context', '@nocontextvenom', 'hidden', '23.4K Followers', '36 Following')\n",
      "('𝔄𝔯𝔱𝔩𝔢𝔪𝔲𝔰 | #BLM', '@lemusuniverse', 'hidden', '24.1K Followers', '1,456 Following')\n",
      "('Jib Kodi', '@JibKodi', 'hidden', '122.3K Followers', '323 Following')\n",
      "(\"Jordan O'Hagan( looking for storyboard work! )\", '@Black_Zork', 'September 28', '30.4K Followers', '757 Following')\n",
      "('SFW_ReniaWoodburn', '@reniawoodburn\\nFollows you', 'hidden', '31 Followers', '18 Following')\n",
      "('Edgaa ', '@EdgaaTanuki\\nFollows you', 'September 18', '717 Followers', '1,134 Following')\n",
      "('Valeria Rodriguez ', '@ElvisBadger', 'November 5', '16.6K Followers', '483 Following')\n",
      "('Gill', '@roni_orin', 'July 18, 1998', '5,114 Followers', '310 Following')\n",
      "('Aki', '@Inuwuff_\\nFollows you', 'February 9', '10K Followers', '136 Following')\n",
      "('Rikkun', '@thanshuhai', 'December 11', '23.8K Followers', '297 Following')\n",
      "('Sevii (check bio)', '@seviezar', 'hidden', '317 Followers', '635 Following')\n",
      "('=KᗩᒪE=', '@koarakeru', 'December 21', '10.9K Followers', '305 Following')\n",
      "('moch', '@kodokumochii', 'October 10', '5,213 Followers', '414 Following')\n",
      "('DEV', '@717D3V', 'hidden', '14.1K Followers', '524 Following')\n",
      "('Luknife', '@luknife\\nFollows you', 'April 2', '171 Followers', '740 Following')\n",
      "('狼轩WolfieXuan', '@kemono_online', 'hidden', '3,032 Followers', '1,381 Following')\n",
      "('ZeTrystan ', '@ZeTrystan', 'hidden', '13.2K Followers', '667 Following')\n",
      "('Tsuroe | 4/4 Commission Slots Full', '@chuurow', 'January 23', '8,809 Followers', '289 Following')\n",
      "('Wolfdog, AAAAAAAAAAAA', '@MrGaberson\\nFollows you', 'February 19', '718 Followers', '2,239 Following')\n",
      "('fludd ', '@Flooderino', 'July 3', '19.6K Followers', '516 Following')\n",
      "('MͬOͣCͫHE', '@mocheccino', 'August 19', '24.4K Followers', '2,356 Following')\n",
      "('死 (Slots Available:None)', '@OOKAnyoufeelit\\nFollows you', '2000', '19.9K Followers', '974 Following')\n",
      "('Flunky', '@fwflunky', 'hidden', '50.6K Followers', '218 Following')\n",
      "('GATO', '@Gato_Matero', 'hidden', '22.9K Followers', '0 Following')\n",
      "('CrescentYeen', '@CrescentYeen', 'hidden', '1,670 Followers', '58 Following')\n",
      "('Ginkko (Commissions closed 10/10)', '@LeafLion_', 'November 2', '16.6K Followers', '133 Following')\n",
      "('Kutto', '@Kuttoyaki', 'hidden', '27.7K Followers', '983 Following')\n",
      "('dbrand', '@dbrand', 'hidden', '1.9M Followers', '1 Following')\n",
      "('Genshin Impact', '@GenshinImpact', 'hidden', '3.1M Followers', '6 Following')\n",
      "('Candy Bara', '@TooMuchDynamite', 'hidden', '53.1K Followers', '692 Following')\n",
      "('JaidenAnimations', '@JaidenAnimation', 'hidden', '1.4M Followers', '146 Following')\n",
      "('LineageOS', '@LineageAndroid', 'hidden', '30.9K Followers', '0 Following')\n",
      "('Luca Stefani', '@luca020400', 'hidden', '1,439 Followers', '62 Following')\n",
      "('MatPat', '@MatPatGT', 'hidden', '5.5M Followers', '478 Following')\n",
      "('OnePlus Support', '@OnePlus_Support', 'hidden', '208.5K Followers', '23 Following')\n",
      "('Ben Diskin', '@BenjaminDiskin', 'hidden', '77.1K Followers', '313 Following')\n",
      "('Dingo', '@DingoDoodles', 'hidden', '51.2K Followers', '238 Following')\n",
      "('JoCat', '@JoCat105', 'April 30, 1996', '117.7K Followers', '893 Following')\n",
      "('Rick and Morty', '@RickandMorty', 'hidden', '2.1M Followers', '223 Following')\n",
      "('LuLu (Working on Commissions!)', '@LotsOf_Lulu', 'hidden', '1,603 Followers', '172 Following')\n",
      "('ブルーハムハム', '@THEBLUEHAMHAM', 'hidden', '557.2K Followers', '1 Following')\n",
      "('Yoby', '@rygel_spkb', 'October 22', '49.7K Followers', '392 Following')\n",
      "('Ice Cream Sandwich', '@ICSandwichGuy', 'hidden', '201.9K Followers', '800 Following')\n",
      "('Pokémon GO', '@PokemonGoApp', 'hidden', '3.7M Followers', '23 Following')\n",
      "('chan', '@chanbanhi', 'May 31', '294K Followers', '451 Following')\n",
      "('Pokémon', '@Pokemon', 'hidden', '6.8M Followers', '44 Following')\n",
      "('Temtem  ARBURY OUT NOW!!', '@PlayTemtem', 'hidden', '104.9K Followers', '100 Following')\n",
      "('Year Progress', '@year_progress', 'hidden', '593.4K Followers', '1 Following')\n",
      "('Marques Brownlee', '@MKBHD', 'hidden', '5.2M Followers', '419 Following')\n",
      "('Grumpyface Studios', '@Grumpyface', 'hidden', '6,464 Followers', '518 Following')\n",
      "('James Fridman', '@fjamie013', 'hidden', '2M Followers', '2 Following')\n",
      "('Lake Reu', '@Lake_Reu', 'hidden', '10 Followers', '252 Following')\n",
      "('Javigameboy', '@Javigameboy', 'hidden', '33.6K Followers', '997 Following')\n",
      "('tobyfox', '@tobyfox', 'hidden', '1.1M Followers', '296 Following')\n",
      "('Risk of Rain 2', '@RiskofRain', 'hidden', '87.3K Followers', '703 Following')\n",
      "('OnePlus', '@oneplus', 'hidden', '2.4M Followers', '50 Following')\n",
      "('Deedee Magno Hall', '@DeedeeMagnoHall', 'hidden', '83.6K Followers', '633 Following')\n",
      "('McKenzie Atwood', '@MKatwood', 'May 19, 1997', '31K Followers', '1,257 Following')\n",
      "('Estelle', '@EstelleDarlings', 'hidden', '788.5K Followers', '2,212 Following')\n",
      "('Made By Google', '@madebygoogle', 'hidden', '526.8K Followers', '9 Following')\n",
      "('Sundar Pichai', '@sundarpichai', 'hidden', '4.2M Followers', '0 Following')\n",
      "('Dank Memes ', '@FreeMemesKidz', 'hidden', '24.5K Followers', '74 Following')\n",
      "('doki ♡ rosi  どきろじ', '@dokirosi', 'hidden', '44.4K Followers', '1,006 Following')\n",
      "('Google Design', '@GoogleDesign', 'hidden', '189.1K Followers', '468 Following')\n",
      "('Google Students', '@googlestudents', 'hidden', '474.4K Followers', '472 Following')\n",
      "('Hannah Hart ', '@harto', 'November 2', '908K Followers', '1,046 Following')\n",
      "('Life at Google', '@lifeatgoogle', 'hidden', '519.2K Followers', '646 Following')\n",
      "('Twitch', '@Twitch', 'hidden', '9M Followers', '770 Following')\n",
      "('Mojang', '@Mojang', 'hidden', '1.4M Followers', '46 Following')\n",
      "('Ben Mangum', '@Mystery_Ben27', 'hidden', '40.4K Followers', '264 Following')\n",
      "('Klei', '@klei', 'hidden', '148.2K Followers', '396 Following')\n",
      "('Minecraft', '@Minecraft', 'hidden', '6.1M Followers', '62 Following')\n",
      "('DOTA 2', '@DOTA2', 'hidden', '1M Followers', '6 Following')\n",
      "('Rebecca Sugar', '@rebeccasugar', 'hidden', '632.2K Followers', '199 Following')\n",
      "('PC Gamer', '@pcgamer', 'hidden', '2.3M Followers', '119 Following')\n",
      "('NVIDIA', '@nvidia', 'hidden', '1.8M Followers', '42 Following')\n",
      "('Google', '@Google', 'hidden', '24.6M Followers', '295 Following')\n",
      "('AMD', '@AMD', 'hidden', '1M Followers', '277 Following')\n"
     ]
    }
   ],
   "source": [
    "final_data = []\r\n",
    "for FrienCheck in data:\r\n",
    "    driver.get(FrienCheck)\r\n",
    "    final_data.append(get_Friens_data())\r\n",
    "    print(get_Friens_data())"
   ]
  },
  {
   "cell_type": "code",
   "execution_count": 223,
   "metadata": {},
   "outputs": [],
   "source": [
    "with open('Friens_Data.csv','w', newline='', encoding='utf-8') as f:\r\n",
    "    header = ['UserName','UserId','BirthdayDate','Followers','Following']\r\n",
    "    writer = csv.writer(f)\r\n",
    "    writer.writerow(header)\r\n",
    "    writer.writerows(final_data)"
   ]
  },
  {
   "cell_type": "code",
   "execution_count": 222,
   "metadata": {},
   "outputs": [
    {
     "name": "stdout",
     "output_type": "stream",
     "text": [
      "86\n"
     ]
    }
   ],
   "source": [
    "print(len(final_data))"
   ]
  }
 ],
 "metadata": {
  "kernelspec": {
   "display_name": "Python 3.10.2 64-bit",
   "name": "python3102jvsc74a57bd0f3d29855468132eb4ff4fc8e24ac5d1949a761618c6503b2f1ee43244e3c1cac"
  },
  "language_info": {
   "codemirror_mode": {
    "name": "ipython",
    "version": 3
   },
   "file_extension": ".py",
   "mimetype": "text/x-python",
   "name": "python",
   "nbconvert_exporter": "python",
   "pygments_lexer": "ipython3",
   "version": "3.10.2"
  },
  "metadata": {
   "interpreter": {
    "hash": "f3d29855468132eb4ff4fc8e24ac5d1949a761618c6503b2f1ee43244e3c1cac"
   }
  },
  "orig_nbformat": 2
 },
 "nbformat": 4,
 "nbformat_minor": 2
}